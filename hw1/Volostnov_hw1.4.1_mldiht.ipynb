{
 "cells": [
  {
   "cell_type": "markdown",
   "metadata": {},
   "source": [
    "### Наивный байес и центроидный классификатор"
   ]
  },
  {
   "cell_type": "markdown",
   "metadata": {},
   "source": [
    "В наивном байесовском классификаторе максимизируется величина\n",
    "$$P(y)\\prod_{k=1}^nP(x^{(k)}|y).$$\n",
    "По условию классы имеют одинаковые априорные вероятности, a $$P(x^{(k)}|y) = \\frac1{\\sqrt{2\\pi\\sigma^2}}e^{-\\frac{(x^{(k)}-\\mu_{yk})^2}{2\\sigma^2}}.$$\n",
    "Поэтому мы можем максимизироватьтакое произведение\n",
    "$$\\prod_{k=1}^n\\frac1{\\sqrt{2\\pi\\sigma^2}}e^{-\\frac{(x^{(k)}-\\mu_{yk})^2}{2\\sigma^2}}.$$\n",
    "После логарифмирования получаем\n",
    "$$C - \\frac1{2\\sigma^2}\\sum_{i=1}^n(x^{(k)}-\\mu_{yk})^2,$$\n",
    "где $C$ -- некоторая константа. Таким образом, классификация сводится к задаче минимизации суммы\n",
    "$$\\sum_{i=1}^n(x^{(k)}-\\mu_{yk})^2,$$\n",
    "которая в точности равна евклидовому расстоянию между $x$ и $\\mu_y$. Что и требовалось доказать."
   ]
  },
  {
   "cell_type": "code",
   "execution_count": null,
   "metadata": {
    "collapsed": true
   },
   "outputs": [],
   "source": []
  }
 ],
 "metadata": {
  "kernelspec": {
   "display_name": "Python 2",
   "language": "python",
   "name": "python2"
  },
  "language_info": {
   "codemirror_mode": {
    "name": "ipython",
    "version": 2
   },
   "file_extension": ".py",
   "mimetype": "text/x-python",
   "name": "python",
   "nbconvert_exporter": "python",
   "pygments_lexer": "ipython2",
   "version": "2.7.13"
  }
 },
 "nbformat": 4,
 "nbformat_minor": 2
}
