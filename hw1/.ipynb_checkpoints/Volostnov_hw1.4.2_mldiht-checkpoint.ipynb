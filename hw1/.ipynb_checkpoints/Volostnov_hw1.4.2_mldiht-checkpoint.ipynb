{
 "cells": [
  {
   "cell_type": "markdown",
   "metadata": {},
   "source": [
    "### ROC-AUC случайных ответов"
   ]
  },
  {
   "cell_type": "markdown",
   "metadata": {},
   "source": [
    "Понятно, что «треугольный ROC-AUC» равен $\\frac12$ + ориентированная площадь треугольника с координатами (0,0), (1,1) и (x,y), где \n",
    "$$x = \\frac{FP}{FP+TN} \\qquad y = \\frac{TP}{TP+FN}$$\n",
    "Эта ориентированная площадь равна $\\frac{y-x}2$.(Это школьная формула для ориентированной площади)\n",
    "Пусть у нас имеется $a$ объектов класса 1 и $b$ объектов класса 0. Тогда очевидно, что\n",
    "$$FP+TN=b \\qquad TP+FN=a$$\n",
    "Посчитаем матожидания:\n",
    "$$E(TP) = \\sum_{x\\in 1} P(a(x)=1) = ap$$\n",
    "$$E(FP) = \\sum_{x\\in 0} P(a(x)=1) = bp$$\n",
    "Отсюда\n",
    "$$E(S_{\\Delta}) = E(\\frac{y-x}/2) = \\frac{E(TP)}{2a} - \\frac{E(FP)}{2b} = 0$$\n",
    "Поэтому «треугольный ROC-AUC» будет в среднем равен 0.5.\n",
    "Q.E.D."
   ]
  },
  {
   "cell_type": "code",
   "execution_count": null,
   "metadata": {
    "collapsed": true
   },
   "outputs": [],
   "source": []
  }
 ],
 "metadata": {
  "kernelspec": {
   "display_name": "Python 2",
   "language": "python",
   "name": "python2"
  },
  "language_info": {
   "codemirror_mode": {
    "name": "ipython",
    "version": 2
   },
   "file_extension": ".py",
   "mimetype": "text/x-python",
   "name": "python",
   "nbconvert_exporter": "python",
   "pygments_lexer": "ipython2",
   "version": "2.7.13"
  }
 },
 "nbformat": 4,
 "nbformat_minor": 2
}
